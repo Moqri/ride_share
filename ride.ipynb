{
 "cells": [
  {
   "cell_type": "code",
   "execution_count": 9,
   "metadata": {
    "collapsed": true
   },
   "outputs": [],
   "source": [
    "import psycopg2\n",
    "import facebook\n",
    "import pandas as pd"
   ]
  },
  {
   "cell_type": "code",
   "execution_count": 2,
   "metadata": {
    "collapsed": false
   },
   "outputs": [],
   "source": [
    "access_token=#token from facebook developers\n",
    "graph = facebook.GraphAPI(access_token, version='2.2')"
   ]
  },
  {
   "cell_type": "code",
   "execution_count": 3,
   "metadata": {
    "collapsed": false
   },
   "outputs": [],
   "source": [
    "# UF Ride group id: 154188317997936\n",
    "feeds = graph.get_object(id='154188317997936?fields=feed{created_time,id,from,message}')['feed']"
   ]
  },
  {
   "cell_type": "code",
   "execution_count": 61,
   "metadata": {
    "collapsed": false
   },
   "outputs": [],
   "source": [
    "feeds_array=[]\n",
    "for feed in feeds['data']:\n",
    "    feeds_array.append([feed['created_time'],feed['message'].replace('\\n', '')+\"\\n\"])"
   ]
  },
  {
   "cell_type": "code",
   "execution_count": 62,
   "metadata": {
    "collapsed": false
   },
   "outputs": [],
   "source": [
    "def is_driving(message):\n",
    "    driving=0\n",
    "    if message.lower().split(' ')[0] in [\"driving\",\"heading\", \"leaving\",\"departing\"]:\n",
    "        driving=1\n",
    "    return driving   "
   ]
  },
  {
   "cell_type": "code",
   "execution_count": 77,
   "metadata": {
    "collapsed": false
   },
   "outputs": [],
   "source": [
    "def location(message,origin_destination):\n",
    "    tmp, keyword, location = message.partition(origin_destination)\n",
    "    return location\n"
   ]
  },
  {
   "cell_type": "code",
   "execution_count": 75,
   "metadata": {
    "collapsed": false
   },
   "outputs": [
    {
     "data": {
      "text/html": [
       "<div>\n",
       "<table border=\"1\" class=\"dataframe\">\n",
       "  <thead>\n",
       "    <tr style=\"text-align: right;\">\n",
       "      <th></th>\n",
       "      <th>message time</th>\n",
       "      <th>message</th>\n",
       "      <th>driving</th>\n",
       "      <th>origin_destination</th>\n",
       "    </tr>\n",
       "  </thead>\n",
       "  <tbody>\n",
       "    <tr>\n",
       "      <th>0</th>\n",
       "      <td>016-10-27T15:49:10</td>\n",
       "      <td>Anyone driving to West Palm Beach/South Florid...</td>\n",
       "      <td></td>\n",
       "      <td></td>\n",
       "    </tr>\n",
       "    <tr>\n",
       "      <th>1</th>\n",
       "      <td>016-10-27T15:37:06</td>\n",
       "      <td>Heading to Broward TODAY around 4PM!\\n</td>\n",
       "      <td>driving</td>\n",
       "      <td></td>\n",
       "    </tr>\n",
       "    <tr>\n",
       "      <th>2</th>\n",
       "      <td>016-10-27T15:20:21</td>\n",
       "      <td>Please tag if you know someone that can help: ...</td>\n",
       "      <td></td>\n",
       "      <td>north miami beach to gainesville today... tex...</td>\n",
       "    </tr>\n",
       "    <tr>\n",
       "      <th>3</th>\n",
       "      <td>016-10-27T04:03:05</td>\n",
       "      <td>Driving from Gainesville to WPB this Friday @ ...</td>\n",
       "      <td>driving</td>\n",
       "      <td>Gainesville to WPB this Friday @ 1:00 msg me\\n</td>\n",
       "    </tr>\n",
       "    <tr>\n",
       "      <th>4</th>\n",
       "      <td>016-10-27T03:29:03</td>\n",
       "      <td>space for two, heading to wpb this friday at 6...</td>\n",
       "      <td></td>\n",
       "      <td></td>\n",
       "    </tr>\n",
       "    <tr>\n",
       "      <th>5</th>\n",
       "      <td>016-10-27T14:37:08</td>\n",
       "      <td>Driving SOUTH to Hollywood TODAY around 3pm.  ...</td>\n",
       "      <td>driving</td>\n",
       "      <td></td>\n",
       "    </tr>\n",
       "    <tr>\n",
       "      <th>6</th>\n",
       "      <td>016-10-27T00:54:33</td>\n",
       "      <td>Driving this Friday from Gainesville to Miami ...</td>\n",
       "      <td>driving</td>\n",
       "      <td>Gainesville to Miami (Aventura Area) around 4...</td>\n",
       "    </tr>\n",
       "    <tr>\n",
       "      <th>7</th>\n",
       "      <td>016-10-27T00:08:55</td>\n",
       "      <td>Looking for a ride from Gainesville to Sarasot...</td>\n",
       "      <td></td>\n",
       "      <td>Gainesville to Sarasota/Tampa tomorrow or Fri...</td>\n",
       "    </tr>\n",
       "    <tr>\n",
       "      <th>8</th>\n",
       "      <td>016-10-27T13:45:15</td>\n",
       "      <td>Leaving to west palm beach today Thursday 27th...</td>\n",
       "      <td>driving</td>\n",
       "      <td></td>\n",
       "    </tr>\n",
       "    <tr>\n",
       "      <th>9</th>\n",
       "      <td>016-10-27T00:04:35</td>\n",
       "      <td>Driving to tally on Friday and coming back Sun...</td>\n",
       "      <td>driving</td>\n",
       "      <td></td>\n",
       "    </tr>\n",
       "    <tr>\n",
       "      <th>10</th>\n",
       "      <td>016-10-27T00:17:42</td>\n",
       "      <td>driving from gville to orlando on friday 10/28...</td>\n",
       "      <td>driving</td>\n",
       "      <td>gville to orlando on friday 10/28 around 1pm....</td>\n",
       "    </tr>\n",
       "    <tr>\n",
       "      <th>11</th>\n",
       "      <td>016-10-26T21:15:34</td>\n",
       "      <td>Driving to Orlando Friday night and coming bac...</td>\n",
       "      <td>driving</td>\n",
       "      <td></td>\n",
       "    </tr>\n",
       "    <tr>\n",
       "      <th>12</th>\n",
       "      <td>016-10-27T13:10:58</td>\n",
       "      <td>Is anyone driving to Jacksonville today or tom...</td>\n",
       "      <td></td>\n",
       "      <td></td>\n",
       "    </tr>\n",
       "    <tr>\n",
       "      <th>13</th>\n",
       "      <td>016-10-27T12:26:05</td>\n",
       "      <td>Driving to Atlanta this Friday at 2:30pm and c...</td>\n",
       "      <td>driving</td>\n",
       "      <td></td>\n",
       "    </tr>\n",
       "    <tr>\n",
       "      <th>14</th>\n",
       "      <td>016-10-27T12:25:09</td>\n",
       "      <td>Driving to Atlanta this Friday at 2:30pm and c...</td>\n",
       "      <td>driving</td>\n",
       "      <td></td>\n",
       "    </tr>\n",
       "    <tr>\n",
       "      <th>15</th>\n",
       "      <td>016-10-26T22:22:07</td>\n",
       "      <td>Looking for a ride this friday to wesley chape...</td>\n",
       "      <td></td>\n",
       "      <td></td>\n",
       "    </tr>\n",
       "    <tr>\n",
       "      <th>16</th>\n",
       "      <td>016-10-27T11:49:15</td>\n",
       "      <td>Leaving for Ft.Lauderdale 10/29 @6Am. I have 2...</td>\n",
       "      <td>driving</td>\n",
       "      <td></td>\n",
       "    </tr>\n",
       "    <tr>\n",
       "      <th>17</th>\n",
       "      <td>016-10-27T11:13:20</td>\n",
       "      <td>Driving from Jacksonville to Gainesville  toda...</td>\n",
       "      <td>driving</td>\n",
       "      <td>Jacksonville to Gainesville  today Thursday 2...</td>\n",
       "    </tr>\n",
       "    <tr>\n",
       "      <th>18</th>\n",
       "      <td>016-10-27T01:06:59</td>\n",
       "      <td>Headed to Jacksonville,  from Gainesville, for...</td>\n",
       "      <td></td>\n",
       "      <td>Gainesville, for the game on Saturday. I have...</td>\n",
       "    </tr>\n",
       "    <tr>\n",
       "      <th>19</th>\n",
       "      <td>016-10-27T10:51:14</td>\n",
       "      <td>Looking for a ride to Jacksonville early Satur...</td>\n",
       "      <td></td>\n",
       "      <td></td>\n",
       "    </tr>\n",
       "    <tr>\n",
       "      <th>20</th>\n",
       "      <td>016-10-27T00:51:19</td>\n",
       "      <td>Driving from Gainesville to Ft. Lauderdale (su...</td>\n",
       "      <td>driving</td>\n",
       "      <td>Gainesville to Ft. Lauderdale (sunrise area) ...</td>\n",
       "    </tr>\n",
       "    <tr>\n",
       "      <th>21</th>\n",
       "      <td>016-10-25T19:07:38</td>\n",
       "      <td>Driving from Gainesville to South Florida (Sun...</td>\n",
       "      <td>driving</td>\n",
       "      <td>Gainesville to South Florida (Sunrise) around...</td>\n",
       "    </tr>\n",
       "    <tr>\n",
       "      <th>22</th>\n",
       "      <td>016-10-26T16:42:22</td>\n",
       "      <td>Anyone going to Orlando this Friday after 12 P...</td>\n",
       "      <td></td>\n",
       "      <td></td>\n",
       "    </tr>\n",
       "    <tr>\n",
       "      <th>23</th>\n",
       "      <td>016-10-26T23:50:04</td>\n",
       "      <td>I am leaving from UF campus around 1:30 tomorr...</td>\n",
       "      <td></td>\n",
       "      <td>UF campus around 1:30 tomorrow to South Flori...</td>\n",
       "    </tr>\n",
       "    <tr>\n",
       "      <th>24</th>\n",
       "      <td>016-10-27T05:21:15</td>\n",
       "      <td>Looking for a ride from Gainesville to Fort La...</td>\n",
       "      <td></td>\n",
       "      <td>Gainesville to Fort Lauderdale on Friday 10/2...</td>\n",
       "    </tr>\n",
       "  </tbody>\n",
       "</table>\n",
       "</div>"
      ],
      "text/plain": [
       "          message time                                            message  \\\n",
       "0   016-10-27T15:49:10  Anyone driving to West Palm Beach/South Florid...   \n",
       "1   016-10-27T15:37:06             Heading to Broward TODAY around 4PM!\\n   \n",
       "2   016-10-27T15:20:21  Please tag if you know someone that can help: ...   \n",
       "3   016-10-27T04:03:05  Driving from Gainesville to WPB this Friday @ ...   \n",
       "4   016-10-27T03:29:03  space for two, heading to wpb this friday at 6...   \n",
       "5   016-10-27T14:37:08  Driving SOUTH to Hollywood TODAY around 3pm.  ...   \n",
       "6   016-10-27T00:54:33  Driving this Friday from Gainesville to Miami ...   \n",
       "7   016-10-27T00:08:55  Looking for a ride from Gainesville to Sarasot...   \n",
       "8   016-10-27T13:45:15  Leaving to west palm beach today Thursday 27th...   \n",
       "9   016-10-27T00:04:35  Driving to tally on Friday and coming back Sun...   \n",
       "10  016-10-27T00:17:42  driving from gville to orlando on friday 10/28...   \n",
       "11  016-10-26T21:15:34  Driving to Orlando Friday night and coming bac...   \n",
       "12  016-10-27T13:10:58  Is anyone driving to Jacksonville today or tom...   \n",
       "13  016-10-27T12:26:05  Driving to Atlanta this Friday at 2:30pm and c...   \n",
       "14  016-10-27T12:25:09  Driving to Atlanta this Friday at 2:30pm and c...   \n",
       "15  016-10-26T22:22:07  Looking for a ride this friday to wesley chape...   \n",
       "16  016-10-27T11:49:15  Leaving for Ft.Lauderdale 10/29 @6Am. I have 2...   \n",
       "17  016-10-27T11:13:20  Driving from Jacksonville to Gainesville  toda...   \n",
       "18  016-10-27T01:06:59  Headed to Jacksonville,  from Gainesville, for...   \n",
       "19  016-10-27T10:51:14  Looking for a ride to Jacksonville early Satur...   \n",
       "20  016-10-27T00:51:19  Driving from Gainesville to Ft. Lauderdale (su...   \n",
       "21  016-10-25T19:07:38  Driving from Gainesville to South Florida (Sun...   \n",
       "22  016-10-26T16:42:22  Anyone going to Orlando this Friday after 12 P...   \n",
       "23  016-10-26T23:50:04  I am leaving from UF campus around 1:30 tomorr...   \n",
       "24  016-10-27T05:21:15  Looking for a ride from Gainesville to Fort La...   \n",
       "\n",
       "    driving                                 origin_destination  \n",
       "0                                                               \n",
       "1   driving                                                     \n",
       "2             north miami beach to gainesville today... tex...  \n",
       "3   driving     Gainesville to WPB this Friday @ 1:00 msg me\\n  \n",
       "4                                                               \n",
       "5   driving                                                     \n",
       "6   driving   Gainesville to Miami (Aventura Area) around 4...  \n",
       "7             Gainesville to Sarasota/Tampa tomorrow or Fri...  \n",
       "8   driving                                                     \n",
       "9   driving                                                     \n",
       "10  driving   gville to orlando on friday 10/28 around 1pm....  \n",
       "11  driving                                                     \n",
       "12                                                              \n",
       "13  driving                                                     \n",
       "14  driving                                                     \n",
       "15                                                              \n",
       "16  driving                                                     \n",
       "17  driving   Jacksonville to Gainesville  today Thursday 2...  \n",
       "18            Gainesville, for the game on Saturday. I have...  \n",
       "19                                                              \n",
       "20  driving   Gainesville to Ft. Lauderdale (sunrise area) ...  \n",
       "21  driving   Gainesville to South Florida (Sunrise) around...  \n",
       "22                                                              \n",
       "23            UF campus around 1:30 tomorrow to South Flori...  \n",
       "24            Gainesville to Fort Lauderdale on Friday 10/2...  "
      ]
     },
     "execution_count": 75,
     "metadata": {},
     "output_type": "execute_result"
    }
   ],
   "source": [
    "df=pd.DataFrame(feeds_array,columns=('message time raw','message raw'))\n",
    "df['message time']=df['message time raw'].str[1:19]\n",
    "df['message']=df['message raw'].str.replace(\"Hey \",\"\").replace(\"Hi \",\"\").replace(\"I am \",\"\").replace(\"I'm \",\"\")\n",
    "\n",
    "df['driving']=df.message.apply(lambda x: \"driving\" if is_driving(x)==1 else \"\")\n",
    "df['origin_destination']=df.message.apply(lambda x: location(x,\"from\"))\n",
    "\n",
    "df[['message time', 'message', 'driving', 'origin_destination']]"
   ]
  },
  {
   "cell_type": "code",
   "execution_count": 5,
   "metadata": {
    "collapsed": true
   },
   "outputs": [],
   "source": [
    "#\"\"\"CREATE TABLE posts(feed_id varchar(200),time varchar(200),message varchar(200))\"\"\")\n",
    "try:\n",
    "    conn = psycopg2.connect(\"dbname='ride' user='postgres' host='localhost' password=''\")\n",
    "except:\n",
    "    print \"I am unable to connect to the database\""
   ]
  },
  {
   "cell_type": "code",
   "execution_count": 6,
   "metadata": {
    "collapsed": true
   },
   "outputs": [],
   "source": [
    "cur = conn.cursor()"
   ]
  },
  {
   "cell_type": "code",
   "execution_count": 7,
   "metadata": {
    "collapsed": false
   },
   "outputs": [],
   "source": [
    "for feed in feeds['data']:\n",
    "    feed_id = feed['id']\n",
    "    time = feed['created_time']\n",
    "    message = feed['message']\n",
    "\n",
    "    query =  \"INSERT INTO posts (feed_id, time, message) VALUES (%s, %s, %s);\"\n",
    "    data = (feed_id, time, message)\n",
    "\n",
    "    cur.execute(query, data)\n",
    "conn.commit()"
   ]
  },
  {
   "cell_type": "code",
   "execution_count": 78,
   "metadata": {
    "collapsed": false
   },
   "outputs": [],
   "source": [
    "cur.execute(\"\"\"SELECT * from posts\"\"\")\n",
    "rows = cur.fetchall()"
   ]
  }
 ],
 "metadata": {
  "anaconda-cloud": {},
  "kernelspec": {
   "display_name": "Python [Root]",
   "language": "python",
   "name": "Python [Root]"
  },
  "language_info": {
   "codemirror_mode": {
    "name": "ipython",
    "version": 2
   },
   "file_extension": ".py",
   "mimetype": "text/x-python",
   "name": "python",
   "nbconvert_exporter": "python",
   "pygments_lexer": "ipython2",
   "version": "2.7.12"
  }
 },
 "nbformat": 4,
 "nbformat_minor": 0
}
